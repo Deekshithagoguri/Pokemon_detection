{
 "cells": [
  {
   "cell_type": "markdown",
   "id": "a236b0fa",
   "metadata": {},
   "source": [
    "# Convolutional Neural Network"
   ]
  },
  {
   "cell_type": "markdown",
   "id": "ce15faf7",
   "metadata": {},
   "source": [
    "### Importing the libraries"
   ]
  },
  {
   "cell_type": "code",
   "execution_count": 1,
   "id": "30717fe3",
   "metadata": {},
   "outputs": [],
   "source": [
    "import tensorflow as tf\n",
    "from keras.preprocessing.image import ImageDataGenerator"
   ]
  },
  {
   "cell_type": "code",
   "execution_count": 2,
   "id": "d5578806",
   "metadata": {},
   "outputs": [],
   "source": [
    "import matplotlib.pyplot as plt"
   ]
  },
  {
   "cell_type": "markdown",
   "id": "bd091bad",
   "metadata": {},
   "source": [
    "# Part 1 - Data Preprocessing"
   ]
  },
  {
   "cell_type": "markdown",
   "id": "996e49dd",
   "metadata": {},
   "source": [
    "## Preprocessing the Training set"
   ]
  },
  {
   "cell_type": "code",
   "execution_count": 31,
   "id": "345cfa99",
   "metadata": {},
   "outputs": [
    {
     "name": "stdout",
     "output_type": "stream",
     "text": [
      "Found 50 images belonging to 2 classes.\n"
     ]
    }
   ],
   "source": [
    "train_datagen = ImageDataGenerator(rescale = 1./255,\n",
    "                                   shear_range = 0.2,\n",
    "                                   zoom_range = 0.2,\n",
    "                                   horizontal_flip = True)\n",
    "training_set = train_datagen.flow_from_directory(\"pokemon/pika_pika/training_set\",\n",
    "                                                 target_size = (64, 64),\n",
    "                                                 batch_size = 32,\n",
    "                                                 class_mode = 'binary')"
   ]
  },
  {
   "cell_type": "markdown",
   "id": "81d02d27",
   "metadata": {},
   "source": [
    "## Preprocessing the Test set"
   ]
  },
  {
   "cell_type": "code",
   "execution_count": 9,
   "id": "c31e80cd",
   "metadata": {},
   "outputs": [
    {
     "name": "stdout",
     "output_type": "stream",
     "text": [
      "Found 10 images belonging to 2 classes.\n"
     ]
    }
   ],
   "source": [
    "test_datagen = ImageDataGenerator(rescale = 1./255)\n",
    "test_set = test_datagen.flow_from_directory('pokemon/pika_pika/test_set',\n",
    "                                            target_size = (64, 64),\n",
    "                                            batch_size = 32,\n",
    "                                            class_mode = 'binary')"
   ]
  },
  {
   "cell_type": "markdown",
   "id": "41fa6497",
   "metadata": {},
   "source": [
    "# Part 2 - Building the CNN"
   ]
  },
  {
   "cell_type": "markdown",
   "id": "902c03d9",
   "metadata": {},
   "source": [
    "### Initialising the CNN"
   ]
  },
  {
   "cell_type": "code",
   "execution_count": 10,
   "id": "0c47f8f5",
   "metadata": {},
   "outputs": [],
   "source": [
    "cnn = tf.keras.models.Sequential()"
   ]
  },
  {
   "cell_type": "markdown",
   "id": "5763d40b",
   "metadata": {},
   "source": [
    "## Step 1 - Convolution"
   ]
  },
  {
   "cell_type": "code",
   "execution_count": 11,
   "id": "11138c7e",
   "metadata": {},
   "outputs": [],
   "source": [
    "cnn.add(tf.keras.layers.Conv2D(filters=32, kernel_size=3, activation='relu', input_shape=[64, 64, 3]))"
   ]
  },
  {
   "cell_type": "markdown",
   "id": "dd5f6a88",
   "metadata": {},
   "source": [
    "## Step 2 - Pooling"
   ]
  },
  {
   "cell_type": "code",
   "execution_count": 12,
   "id": "6eb977ad",
   "metadata": {},
   "outputs": [],
   "source": [
    "cnn.add(tf.keras.layers.MaxPool2D(pool_size=2, strides=2))"
   ]
  },
  {
   "cell_type": "markdown",
   "id": "56724ff8",
   "metadata": {},
   "source": [
    "## Adding a second convolutional layer"
   ]
  },
  {
   "cell_type": "code",
   "execution_count": 13,
   "id": "370d4f95",
   "metadata": {},
   "outputs": [],
   "source": [
    "cnn.add(tf.keras.layers.Conv2D(filters=32, kernel_size=3, activation='relu'))\n",
    "cnn.add(tf.keras.layers.MaxPool2D(pool_size=2, strides=2)) "
   ]
  },
  {
   "cell_type": "markdown",
   "id": "b3faa367",
   "metadata": {},
   "source": [
    "## Step 3 - Flattening"
   ]
  },
  {
   "cell_type": "code",
   "execution_count": 14,
   "id": "09356d98",
   "metadata": {},
   "outputs": [],
   "source": [
    "cnn.add(tf.keras.layers.Flatten())"
   ]
  },
  {
   "cell_type": "markdown",
   "id": "4d5e1719",
   "metadata": {},
   "source": [
    "## Step 4 - Full Connection"
   ]
  },
  {
   "cell_type": "code",
   "execution_count": 15,
   "id": "d5d5aff0",
   "metadata": {},
   "outputs": [],
   "source": [
    "cnn.add(tf.keras.layers.Dense(units=128, activation='relu'))"
   ]
  },
  {
   "cell_type": "markdown",
   "id": "0d15f714",
   "metadata": {},
   "source": [
    "## Step 5 - Output Layer"
   ]
  },
  {
   "cell_type": "code",
   "execution_count": 16,
   "id": "a7af358d",
   "metadata": {},
   "outputs": [],
   "source": [
    "cnn.add(tf.keras.layers.Dense(units=1, activation='sigmoid'))"
   ]
  },
  {
   "cell_type": "markdown",
   "id": "f4d3ebdc",
   "metadata": {},
   "source": [
    "## Part 3 - Training the CNN"
   ]
  },
  {
   "cell_type": "markdown",
   "id": "c75fe8ae",
   "metadata": {},
   "source": [
    "## Compiling the CNN"
   ]
  },
  {
   "cell_type": "code",
   "execution_count": 17,
   "id": "b1108003",
   "metadata": {},
   "outputs": [],
   "source": [
    "cnn.compile(optimizer = 'adam', loss = 'binary_crossentropy', metrics = ['accuracy'])"
   ]
  },
  {
   "cell_type": "markdown",
   "id": "c8356030",
   "metadata": {},
   "source": [
    "## Training the CNN on the Training set and evaluating it on the Test set"
   ]
  },
  {
   "cell_type": "code",
   "execution_count": 18,
   "id": "536847d1",
   "metadata": {},
   "outputs": [
    {
     "name": "stdout",
     "output_type": "stream",
     "text": [
      "Epoch 1/25\n",
      "2/2 [==============================] - 2s 1s/step - loss: 0.7108 - accuracy: 0.5200 - val_loss: 1.0586 - val_accuracy: 0.5000\n",
      "Epoch 2/25\n",
      "2/2 [==============================] - 1s 654ms/step - loss: 0.8987 - accuracy: 0.5600 - val_loss: 0.6994 - val_accuracy: 0.5000\n",
      "Epoch 3/25\n",
      "2/2 [==============================] - 1s 684ms/step - loss: 0.6891 - accuracy: 0.5200 - val_loss: 0.8468 - val_accuracy: 0.5000\n",
      "Epoch 4/25\n",
      "2/2 [==============================] - 1s 397ms/step - loss: 0.6617 - accuracy: 0.5600 - val_loss: 0.6727 - val_accuracy: 0.6000\n",
      "Epoch 5/25\n",
      "2/2 [==============================] - 1s 655ms/step - loss: 0.5269 - accuracy: 0.8400 - val_loss: 0.6538 - val_accuracy: 0.5000\n",
      "Epoch 6/25\n",
      "2/2 [==============================] - 1s 775ms/step - loss: 0.5196 - accuracy: 0.6600 - val_loss: 0.6309 - val_accuracy: 0.6000\n",
      "Epoch 7/25\n",
      "2/2 [==============================] - 1s 890ms/step - loss: 0.4170 - accuracy: 0.8800 - val_loss: 0.6756 - val_accuracy: 0.6000\n",
      "Epoch 8/25\n",
      "2/2 [==============================] - 1s 503ms/step - loss: 0.3963 - accuracy: 0.8600 - val_loss: 0.6275 - val_accuracy: 0.8000\n",
      "Epoch 9/25\n",
      "2/2 [==============================] - 1s 774ms/step - loss: 0.2743 - accuracy: 0.9600 - val_loss: 0.5321 - val_accuracy: 0.6000\n",
      "Epoch 10/25\n",
      "2/2 [==============================] - 1s 622ms/step - loss: 0.2571 - accuracy: 0.9600 - val_loss: 0.5436 - val_accuracy: 0.8000\n",
      "Epoch 11/25\n",
      "2/2 [==============================] - 1s 753ms/step - loss: 0.2268 - accuracy: 0.9000 - val_loss: 0.6710 - val_accuracy: 0.8000\n",
      "Epoch 12/25\n",
      "2/2 [==============================] - 1s 764ms/step - loss: 0.1368 - accuracy: 0.9400 - val_loss: 0.4412 - val_accuracy: 0.7000\n",
      "Epoch 13/25\n",
      "2/2 [==============================] - 1s 568ms/step - loss: 0.1244 - accuracy: 0.9600 - val_loss: 0.4592 - val_accuracy: 0.8000\n",
      "Epoch 14/25\n",
      "2/2 [==============================] - 1s 360ms/step - loss: 0.0829 - accuracy: 0.9800 - val_loss: 0.6647 - val_accuracy: 0.8000\n",
      "Epoch 15/25\n",
      "2/2 [==============================] - 1s 528ms/step - loss: 0.1100 - accuracy: 0.9600 - val_loss: 0.4567 - val_accuracy: 0.8000\n",
      "Epoch 16/25\n",
      "2/2 [==============================] - 1s 430ms/step - loss: 0.0673 - accuracy: 1.0000 - val_loss: 0.3523 - val_accuracy: 0.8000\n",
      "Epoch 17/25\n",
      "2/2 [==============================] - 1s 681ms/step - loss: 0.1021 - accuracy: 0.9800 - val_loss: 0.4595 - val_accuracy: 0.9000\n",
      "Epoch 18/25\n",
      "2/2 [==============================] - 1s 662ms/step - loss: 0.0941 - accuracy: 0.9600 - val_loss: 0.8243 - val_accuracy: 0.7000\n",
      "Epoch 19/25\n",
      "2/2 [==============================] - 1s 420ms/step - loss: 0.0956 - accuracy: 0.9800 - val_loss: 0.4336 - val_accuracy: 0.9000\n",
      "Epoch 20/25\n",
      "2/2 [==============================] - 1s 678ms/step - loss: 0.0401 - accuracy: 1.0000 - val_loss: 0.3419 - val_accuracy: 0.8000\n",
      "Epoch 21/25\n",
      "2/2 [==============================] - 1s 415ms/step - loss: 0.0483 - accuracy: 1.0000 - val_loss: 0.3366 - val_accuracy: 0.8000\n",
      "Epoch 22/25\n",
      "2/2 [==============================] - 1s 706ms/step - loss: 0.0252 - accuracy: 1.0000 - val_loss: 0.6289 - val_accuracy: 0.9000\n",
      "Epoch 23/25\n",
      "2/2 [==============================] - 1s 476ms/step - loss: 0.0199 - accuracy: 1.0000 - val_loss: 0.8899 - val_accuracy: 0.9000\n",
      "Epoch 24/25\n",
      "2/2 [==============================] - 1s 912ms/step - loss: 0.0179 - accuracy: 1.0000 - val_loss: 0.7733 - val_accuracy: 0.9000\n",
      "Epoch 25/25\n",
      "2/2 [==============================] - 1s 582ms/step - loss: 0.0090 - accuracy: 1.0000 - val_loss: 0.5697 - val_accuracy: 0.9000\n"
     ]
    }
   ],
   "source": [
    "trained_model = cnn.fit(x = training_set, validation_data = test_set, epochs = 25)"
   ]
  },
  {
   "cell_type": "markdown",
   "id": "9cf62adf",
   "metadata": {},
   "source": [
    "# Part 4 - Making predictions"
   ]
  },
  {
   "cell_type": "code",
   "execution_count": 25,
   "id": "7b88ee98",
   "metadata": {},
   "outputs": [],
   "source": [
    "import numpy as np"
   ]
  },
  {
   "cell_type": "code",
   "execution_count": 49,
   "id": "cb27b70d",
   "metadata": {},
   "outputs": [],
   "source": [
    "import os\n",
    "path=\"pokemon/pika_pika/single_prediction\"\n",
    "dir_list = os.listdir(path)"
   ]
  },
  {
   "cell_type": "code",
   "execution_count": 59,
   "id": "e7442842",
   "metadata": {},
   "outputs": [
    {
     "name": "stdout",
     "output_type": "stream",
     "text": [
      "check_1.jpg pikachu\n",
      "check_2.png pikachu\n",
      "check_3.jpg raichu\n",
      "check_4.jpeg raichu\n"
     ]
    }
   ],
   "source": [
    "for i in dir_list:\n",
    "    test_image = image.load_img(os.path.join(\"pokemon/pika_pika/single_prediction\",i), target_size = (64, 64))\n",
    "    test_image = image.img_to_array(test_image)\n",
    "    test_image = np.expand_dims(test_image, axis = 0)\n",
    "    result = cnn.predict(test_image)\n",
    "    #training_set.class_indices\n",
    "    if result[0][0] == 1:\n",
    "      prediction = 'pikachu'\n",
    "    else:\n",
    "      prediction = 'raichu'\n",
    "    print(i,prediction)"
   ]
  },
  {
   "cell_type": "code",
   "execution_count": 58,
   "id": "c9760747",
   "metadata": {},
   "outputs": [
    {
     "data": {
      "text/plain": [
       "'pokemon/pika_pika/single_prediction\\\\check_4.jpeg'"
      ]
     },
     "execution_count": 58,
     "metadata": {},
     "output_type": "execute_result"
    }
   ],
   "source": [
    "os.path.join(\"pokemon/pika_pika/single_prediction\",i)"
   ]
  },
  {
   "cell_type": "code",
   "execution_count": null,
   "id": "077eb438",
   "metadata": {},
   "outputs": [],
   "source": []
  }
 ],
 "metadata": {
  "kernelspec": {
   "display_name": "Python 3",
   "language": "python",
   "name": "python3"
  },
  "language_info": {
   "codemirror_mode": {
    "name": "ipython",
    "version": 3
   },
   "file_extension": ".py",
   "mimetype": "text/x-python",
   "name": "python",
   "nbconvert_exporter": "python",
   "pygments_lexer": "ipython3",
   "version": "3.8.8"
  }
 },
 "nbformat": 4,
 "nbformat_minor": 5
}
